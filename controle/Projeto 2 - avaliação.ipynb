{
 "cells": [
  {
   "cell_type": "code",
   "execution_count": 46,
   "metadata": {
    "ExecuteTime": {
     "end_time": "2019-06-26T23:34:16.197787Z",
     "start_time": "2019-06-26T23:34:16.185302Z"
    }
   },
   "outputs": [
    {
     "ename": "ModuleNotFoundError",
     "evalue": "No module named 'mycontrol'",
     "output_type": "error",
     "traceback": [
      "\u001b[0;31m---------------------------------------------------------------------------\u001b[0m",
      "\u001b[0;31mModuleNotFoundError\u001b[0m                       Traceback (most recent call last)",
      "\u001b[0;32m<ipython-input-46-e0d3f75cb4f7>\u001b[0m in \u001b[0;36m<module>\u001b[0;34m\u001b[0m\n\u001b[1;32m      3\u001b[0m \u001b[0;32mimport\u001b[0m \u001b[0mmatplotlib\u001b[0m\u001b[0;34m.\u001b[0m\u001b[0mpyplot\u001b[0m \u001b[0;32mas\u001b[0m \u001b[0mplt\u001b[0m\u001b[0;34m\u001b[0m\u001b[0;34m\u001b[0m\u001b[0m\n\u001b[1;32m      4\u001b[0m \u001b[0;32mimport\u001b[0m \u001b[0mimport_ipynb\u001b[0m\u001b[0;34m\u001b[0m\u001b[0;34m\u001b[0m\u001b[0m\n\u001b[0;32m----> 5\u001b[0;31m \u001b[0;32mfrom\u001b[0m \u001b[0mmycontrol\u001b[0m \u001b[0;32mimport\u001b[0m \u001b[0mmyfom\u001b[0m \u001b[0;32mas\u001b[0m \u001b[0mFOM\u001b[0m\u001b[0;34m\u001b[0m\u001b[0;34m\u001b[0m\u001b[0m\n\u001b[0m\u001b[1;32m      6\u001b[0m \u001b[0;32mfrom\u001b[0m \u001b[0mmycontrol\u001b[0m \u001b[0;32mimport\u001b[0m \u001b[0mmystepinfo\u001b[0m \u001b[0;32mas\u001b[0m \u001b[0mSTEPINFO\u001b[0m\u001b[0;34m\u001b[0m\u001b[0;34m\u001b[0m\u001b[0m\n\u001b[1;32m      7\u001b[0m \u001b[0mSettlingTimeThreshold\u001b[0m \u001b[0;34m=\u001b[0m \u001b[0;36m0.05\u001b[0m\u001b[0;34m\u001b[0m\u001b[0;34m\u001b[0m\u001b[0m\n",
      "\u001b[0;31mModuleNotFoundError\u001b[0m: No module named 'mycontrol'"
     ]
    }
   ],
   "source": [
    "import control\n",
    "import numpy as np\n",
    "import matplotlib.pyplot as plt\n",
    "import import_ipynb\n",
    "from mycontrol import myfom as FOM\n",
    "from mycontrol import mystepinfo as STEPINFO\n",
    "SettlingTimeThreshold = 0.05"
   ]
  },
  {
   "cell_type": "markdown",
   "metadata": {},
   "source": [
    "# 1. SISTEMA EM MALHA FECHADA"
   ]
  },
  {
   "cell_type": "markdown",
   "metadata": {},
   "source": [
    "## 1.1 RESPOSTA AO DEGARU\n",
    "![Resposta ao Degrau](SCT2_bloco2/completo/ALL0000/F0000TEK.JPG)"
   ]
  },
  {
   "cell_type": "markdown",
   "metadata": {},
   "source": [
    "## 1.2 TEMPO DE SUBIDA\n",
    "![Tempo de Subida](SCT2_bloco2/completo/ALL0001/F0001TEK.JPG)"
   ]
  },
  {
   "cell_type": "code",
   "execution_count": 36,
   "metadata": {
    "ExecuteTime": {
     "end_time": "2019-06-26T23:26:57.953496Z",
     "start_time": "2019-06-26T23:26:57.946294Z"
    }
   },
   "outputs": [
    {
     "name": "stdout",
     "output_type": "stream",
     "text": [
      "v0 = 1.0 v\n",
      "vinf = 1.5 v\n",
      "deltav = 0.5 v\n",
      "v10 = 1.05 v\n",
      "v90 = 1.45 v\n",
      "t10 = 0.0068 s\n",
      "t90 = 0.0216 s\n",
      "RiseTime = 0.0148 s\n"
     ]
    }
   ],
   "source": [
    "v0 = 1.00\n",
    "print(f'v0 = {v0} v')\n",
    "vinf = 1.50\n",
    "print(f'vinf = {vinf} v')\n",
    "\n",
    "deltav = vinf - v0\n",
    "print(f'deltav = {deltav} v')\n",
    "\n",
    "v10 = deltav * 0.1 + v0\n",
    "v90 = deltav * 0.9 + v0\n",
    "print(f'v10 = {v10} v')\n",
    "print(f'v90 = {v90} v')\n",
    "\n",
    "t10 = 6.80e-3\n",
    "t90 = 21.6e-3\n",
    "print(f't10 = {t10} s')\n",
    "print(f't90 = {t90} s')\n",
    "RiseTime = t90 - t10\n",
    "print(f'RiseTime = {RiseTime} s')"
   ]
  },
  {
   "cell_type": "markdown",
   "metadata": {},
   "source": [
    "## 1.3 TEMPO DE ATRASO\n",
    "![Tempo de Atraso](SCT2_bloco2/completo/ALL0002/F0002TEK.JPG)"
   ]
  },
  {
   "cell_type": "code",
   "execution_count": 37,
   "metadata": {
    "ExecuteTime": {
     "end_time": "2019-06-26T23:27:40.283217Z",
     "start_time": "2019-06-26T23:27:40.275672Z"
    }
   },
   "outputs": [
    {
     "name": "stdout",
     "output_type": "stream",
     "text": [
      "deltav = 0.5 v\n",
      "v50 = 1.25 v\n",
      "Delay = 0.0136 s\n"
     ]
    }
   ],
   "source": [
    "deltav = vinf - v0\n",
    "print(f'deltav = {deltav} v')\n",
    "\n",
    "v50 = deltav * 0.5 + v0\n",
    "print(f'v50 = {v50} v')\n",
    "t50 = 13.6e-3\n",
    "print(f'Delay = {t50} s')"
   ]
  },
  {
   "cell_type": "markdown",
   "metadata": {},
   "source": [
    "## 1.4 PICO E TEMPO DE PICO\n",
    "![Pico e Tempo de Pico](SCT2_bloco2/completo/ALL0003/F0003TEK.JPG)"
   ]
  },
  {
   "cell_type": "code",
   "execution_count": 49,
   "metadata": {
    "ExecuteTime": {
     "end_time": "2019-06-26T23:43:10.222166Z",
     "start_time": "2019-06-26T23:43:10.216350Z"
    }
   },
   "outputs": [
    {
     "name": "stdout",
     "output_type": "stream",
     "text": [
      "PeakTime = 0.0333 s\n",
      "PeakValue = 1.51 v\n",
      "OverShoot = 2.0000000000000018 %\n"
     ]
    }
   ],
   "source": [
    "PeakTime = 33.3e-3\n",
    "print(f'PeakTime = {PeakTime} s')\n",
    "\n",
    "PeakValue = 1.51\n",
    "print(f'PeakValue = {PeakValue} v')\n",
    "\n",
    "OverShoot = 100 * (PeakValue - vinf) / (vinf - v0)\n",
    "print(f'OverShoot = {OverShoot} %')"
   ]
  },
  {
   "cell_type": "markdown",
   "metadata": {},
   "source": [
    "## 1.5 TEMPO DE ACOMODAÇÃO\n",
    "![Tempo de Acomodação](SCT2_bloco2/completo/ALL0005/F0005TEK.JPG)"
   ]
  },
  {
   "cell_type": "code",
   "execution_count": 51,
   "metadata": {
    "ExecuteTime": {
     "end_time": "2019-06-26T23:47:03.546952Z",
     "start_time": "2019-06-26T23:47:03.536772Z"
    }
   },
   "outputs": [
    {
     "name": "stdout",
     "output_type": "stream",
     "text": [
      "sup_margin = 1.525 v\n",
      "inf_margin = 1.475 v\n",
      "SettlingTime = 0.0238 s\n"
     ]
    }
   ],
   "source": [
    "SettlingTimeThreshold = 0.05\n",
    "sup_margin = (1. + SettlingTimeThreshold) * deltav +v0\n",
    "inf_margin = (1. - SettlingTimeThreshold) * deltav +v0\n",
    "print(f'sup_margin = {sup_margin} v')\n",
    "print(f'inf_margin = {inf_margin} v')\n",
    "SettlingTime = (23.8e-3 + 23.8e-3) / 2\n",
    "print(f'SettlingTime = {SettlingTime} s')"
   ]
  },
  {
   "cell_type": "markdown",
   "metadata": {},
   "source": [
    "## 1.6 FUNÇÃO DE TRANSFERÊNCIA EQUIVALENTE"
   ]
  },
  {
   "cell_type": "code",
   "execution_count": 40,
   "metadata": {
    "ExecuteTime": {
     "end_time": "2019-06-26T23:33:10.127264Z",
     "start_time": "2019-06-26T23:33:10.039389Z"
    }
   },
   "outputs": [
    {
     "name": "stdout",
     "output_type": "stream",
     "text": [
      "zeta = 0.7797032674120721\n",
      "wn = 150.21924645387776\n",
      "zeta_check = 0.779703267412072\n"
     ]
    }
   ],
   "source": [
    "zeta = -np.log(OverShoot / 100.) / np.sqrt(  (-np.pi)**2 + (np.log(OverShoot / 100.))**2  )\n",
    "wn = np.pi / (PeakTime * np.sqrt(1 - zeta**2) )\n",
    "print(f'zeta = {zeta}')\n",
    "print(f'wn = {wn}')\n",
    "zeta_check = np.sqrt(1 - ((np.pi)/(wn * PeakTime))**2)\n",
    "print(f'zeta_check = {zeta_check}')"
   ]
  },
  {
   "cell_type": "code",
   "execution_count": 44,
   "metadata": {
    "ExecuteTime": {
     "end_time": "2019-06-26T23:33:49.116597Z",
     "start_time": "2019-06-26T23:33:48.633482Z"
    }
   },
   "outputs": [
    {
     "name": "stdout",
     "output_type": "stream",
     "text": [
      "\n",
      "        2.257e+04\n",
      "-------------------------\n",
      "s^2 + 234.3 s + 2.257e+04\n",
      "\n"
     ]
    },
    {
     "ename": "ValueError",
     "evalue": "Parameter ``T``: time values must be equally spaced.",
     "output_type": "error",
     "traceback": [
      "\u001b[0;31m---------------------------------------------------------------------------\u001b[0m",
      "\u001b[0;31mValueError\u001b[0m                                Traceback (most recent call last)",
      "\u001b[0;32m<ipython-input-44-78c79978f327>\u001b[0m in \u001b[0;36m<module>\u001b[0;34m\u001b[0m\n\u001b[1;32m      6\u001b[0m \u001b[0mplt\u001b[0m\u001b[0;34m.\u001b[0m\u001b[0mgrid\u001b[0m\u001b[0;34m(\u001b[0m\u001b[0;34m)\u001b[0m\u001b[0;34m\u001b[0m\u001b[0;34m\u001b[0m\u001b[0m\n\u001b[1;32m      7\u001b[0m \u001b[0;34m\u001b[0m\u001b[0m\n\u001b[0;32m----> 8\u001b[0;31m \u001b[0mS\u001b[0m \u001b[0;34m=\u001b[0m \u001b[0mcontrol\u001b[0m\u001b[0;34m.\u001b[0m\u001b[0mstep_info\u001b[0m\u001b[0;34m(\u001b[0m\u001b[0mG2_s\u001b[0m\u001b[0;34m,\u001b[0m \u001b[0mt\u001b[0m\u001b[0;34m,\u001b[0m \u001b[0mSettlingTimeThreshold\u001b[0m\u001b[0;34m=\u001b[0m\u001b[0mSettlingTimeThreshold\u001b[0m\u001b[0;34m)\u001b[0m\u001b[0;34m\u001b[0m\u001b[0;34m\u001b[0m\u001b[0m\n\u001b[0m\u001b[1;32m      9\u001b[0m \u001b[0mfom\u001b[0m \u001b[0;34m=\u001b[0m \u001b[0mFOM\u001b[0m\u001b[0;34m(\u001b[0m\u001b[0mS\u001b[0m\u001b[0;34m,\u001b[0m \u001b[0mSettlingTimeThreshold\u001b[0m\u001b[0;34m)\u001b[0m\u001b[0;34m\u001b[0m\u001b[0;34m\u001b[0m\u001b[0m\n\u001b[1;32m     10\u001b[0m \u001b[0;34m\u001b[0m\u001b[0m\n",
      "\u001b[0;32m~/.local/lib/python3.7/site-packages/control/timeresp.py\u001b[0m in \u001b[0;36mstep_info\u001b[0;34m(sys, T, SettlingTimeThreshold, RiseTimeLimits)\u001b[0m\n\u001b[1;32m    518\u001b[0m             \u001b[0mT\u001b[0m \u001b[0;34m=\u001b[0m \u001b[0mrange\u001b[0m\u001b[0;34m(\u001b[0m\u001b[0mint\u001b[0m\u001b[0;34m(\u001b[0m\u001b[0mnp\u001b[0m\u001b[0;34m.\u001b[0m\u001b[0mceil\u001b[0m\u001b[0;34m(\u001b[0m\u001b[0mmax\u001b[0m\u001b[0;34m(\u001b[0m\u001b[0mtvec\u001b[0m\u001b[0;34m)\u001b[0m\u001b[0;34m)\u001b[0m\u001b[0;34m)\u001b[0m\u001b[0;34m)\u001b[0m\u001b[0;34m\u001b[0m\u001b[0;34m\u001b[0m\u001b[0m\n\u001b[1;32m    519\u001b[0m \u001b[0;34m\u001b[0m\u001b[0m\n\u001b[0;32m--> 520\u001b[0;31m     \u001b[0mT\u001b[0m\u001b[0;34m,\u001b[0m \u001b[0myout\u001b[0m \u001b[0;34m=\u001b[0m \u001b[0mstep_response\u001b[0m\u001b[0;34m(\u001b[0m\u001b[0msys\u001b[0m\u001b[0;34m,\u001b[0m \u001b[0mT\u001b[0m\u001b[0;34m)\u001b[0m\u001b[0;34m\u001b[0m\u001b[0;34m\u001b[0m\u001b[0m\n\u001b[0m\u001b[1;32m    521\u001b[0m \u001b[0;34m\u001b[0m\u001b[0m\n\u001b[1;32m    522\u001b[0m     \u001b[0;31m# Steady state value\u001b[0m\u001b[0;34m\u001b[0m\u001b[0;34m\u001b[0m\u001b[0;34m\u001b[0m\u001b[0m\n",
      "\u001b[0;32m~/.local/lib/python3.7/site-packages/control/timeresp.py\u001b[0m in \u001b[0;36mstep_response\u001b[0;34m(sys, T, X0, input, output, transpose, return_x)\u001b[0m\n\u001b[1;32m    462\u001b[0m \u001b[0;34m\u001b[0m\u001b[0m\n\u001b[1;32m    463\u001b[0m     T, yout, xout = forced_response(sys, T, U, X0,\n\u001b[0;32m--> 464\u001b[0;31m                                      transpose=transpose)\n\u001b[0m\u001b[1;32m    465\u001b[0m \u001b[0;34m\u001b[0m\u001b[0m\n\u001b[1;32m    466\u001b[0m     \u001b[0;32mif\u001b[0m \u001b[0mreturn_x\u001b[0m\u001b[0;34m:\u001b[0m\u001b[0;34m\u001b[0m\u001b[0;34m\u001b[0m\u001b[0m\n",
      "\u001b[0;32m~/.local/lib/python3.7/site-packages/control/timeresp.py\u001b[0m in \u001b[0;36mforced_response\u001b[0;34m(sys, T, U, X0, transpose, interpolate)\u001b[0m\n\u001b[1;32m    265\u001b[0m     \u001b[0mdt\u001b[0m \u001b[0;34m=\u001b[0m \u001b[0mT\u001b[0m\u001b[0;34m[\u001b[0m\u001b[0;36m1\u001b[0m\u001b[0;34m]\u001b[0m \u001b[0;34m-\u001b[0m \u001b[0mT\u001b[0m\u001b[0;34m[\u001b[0m\u001b[0;36m0\u001b[0m\u001b[0;34m]\u001b[0m\u001b[0;34m\u001b[0m\u001b[0;34m\u001b[0m\u001b[0m\n\u001b[1;32m    266\u001b[0m     \u001b[0;32mif\u001b[0m \u001b[0;32mnot\u001b[0m \u001b[0mnp\u001b[0m\u001b[0;34m.\u001b[0m\u001b[0mallclose\u001b[0m\u001b[0;34m(\u001b[0m\u001b[0mT\u001b[0m\u001b[0;34m[\u001b[0m\u001b[0;36m1\u001b[0m\u001b[0;34m:\u001b[0m\u001b[0;34m]\u001b[0m \u001b[0;34m-\u001b[0m \u001b[0mT\u001b[0m\u001b[0;34m[\u001b[0m\u001b[0;34m:\u001b[0m\u001b[0;34m-\u001b[0m\u001b[0;36m1\u001b[0m\u001b[0;34m]\u001b[0m\u001b[0;34m,\u001b[0m \u001b[0mdt\u001b[0m\u001b[0;34m)\u001b[0m\u001b[0;34m:\u001b[0m\u001b[0;34m\u001b[0m\u001b[0;34m\u001b[0m\u001b[0m\n\u001b[0;32m--> 267\u001b[0;31m         \u001b[0;32mraise\u001b[0m \u001b[0mValueError\u001b[0m\u001b[0;34m(\u001b[0m\u001b[0;34m'Parameter ``T``: time values must be equally spaced.'\u001b[0m\u001b[0;34m)\u001b[0m\u001b[0;34m\u001b[0m\u001b[0;34m\u001b[0m\u001b[0m\n\u001b[0m\u001b[1;32m    268\u001b[0m     \u001b[0mn_steps\u001b[0m \u001b[0;34m=\u001b[0m \u001b[0mlen\u001b[0m\u001b[0;34m(\u001b[0m\u001b[0mT\u001b[0m\u001b[0;34m)\u001b[0m            \u001b[0;31m# number of simulation steps\u001b[0m\u001b[0;34m\u001b[0m\u001b[0;34m\u001b[0m\u001b[0m\n\u001b[1;32m    269\u001b[0m \u001b[0;34m\u001b[0m\u001b[0m\n",
      "\u001b[0;31mValueError\u001b[0m: Parameter ``T``: time values must be equally spaced."
     ]
    },
    {
     "data": {
      "image/png": "[encoded data removed]",
      "text/plain": [
       "<Figure size 1440x720 with 1 Axes>"
      ]
     },
     "metadata": {
      "needs_background": "light"
     },
     "output_type": "display_data"
    }
   ],
   "source": [
    "G2_s = control.tf([wn**2],[1, 2 * zeta * wn, wn**2])\n",
    "print(G2_s)\n",
    "plt.figure(figsize=(20,10))\n",
    "step_out, t = control.step_response(G2_s)\n",
    "plt.plot(t, step_out)\n",
    "plt.grid()\n",
    "\n",
    "S = control.step_info(G2_s, t, SettlingTimeThreshold=SettlingTimeThreshold)\n",
    "fom = FOM(S, SettlingTimeThreshold)\n",
    "\n",
    "print(json.dumps(S, indent=4))\n",
    "print(json.dumps(fom, indent=4))"
   ]
  },
  {
   "cell_type": "code",
   "execution_count": 45,
   "metadata": {
    "ExecuteTime": {
     "end_time": "2019-06-26T23:34:04.873329Z",
     "start_time": "2019-06-26T23:34:04.856563Z"
    }
   },
   "outputs": [
    {
     "ename": "NameError",
     "evalue": "name 'fom' is not defined",
     "output_type": "error",
     "traceback": [
      "\u001b[0;31m---------------------------------------------------------------------------\u001b[0m",
      "\u001b[0;31mNameError\u001b[0m                                 Traceback (most recent call last)",
      "\u001b[0;32m<ipython-input-45-4cdf5cec5228>\u001b[0m in \u001b[0;36m<module>\u001b[0;34m\u001b[0m\n\u001b[1;32m      1\u001b[0m \u001b[0;31m# Representação polar\u001b[0m\u001b[0;34m\u001b[0m\u001b[0;34m\u001b[0m\u001b[0;34m\u001b[0m\u001b[0m\n\u001b[1;32m      2\u001b[0m \u001b[0mTs\u001b[0m \u001b[0;34m=\u001b[0m \u001b[0;36m1\u001b[0m\u001b[0;34m/\u001b[0m\u001b[0;36m1000\u001b[0m\u001b[0;34m\u001b[0m\u001b[0;34m\u001b[0m\u001b[0m\n\u001b[0;32m----> 3\u001b[0;31m \u001b[0mp1_r\u001b[0m \u001b[0;34m=\u001b[0m \u001b[0mnp\u001b[0m\u001b[0;34m.\u001b[0m\u001b[0mexp\u001b[0m\u001b[0;34m(\u001b[0m\u001b[0;34m-\u001b[0m\u001b[0mTs\u001b[0m \u001b[0;34m*\u001b[0m \u001b[0mfom\u001b[0m\u001b[0;34m[\u001b[0m\u001b[0;34m'zeta'\u001b[0m\u001b[0;34m]\u001b[0m \u001b[0;34m*\u001b[0m \u001b[0mfom\u001b[0m\u001b[0;34m[\u001b[0m\u001b[0;34m'wn'\u001b[0m\u001b[0;34m]\u001b[0m\u001b[0;34m)\u001b[0m\u001b[0;34m\u001b[0m\u001b[0;34m\u001b[0m\u001b[0m\n\u001b[0m\u001b[1;32m      4\u001b[0m \u001b[0mp1_theta\u001b[0m \u001b[0;34m=\u001b[0m \u001b[0mnp\u001b[0m\u001b[0;34m.\u001b[0m\u001b[0mdegrees\u001b[0m\u001b[0;34m(\u001b[0m\u001b[0mTs\u001b[0m \u001b[0;34m*\u001b[0m \u001b[0mfom\u001b[0m\u001b[0;34m[\u001b[0m\u001b[0;34m'wd'\u001b[0m\u001b[0;34m]\u001b[0m\u001b[0;34m)\u001b[0m\u001b[0;34m\u001b[0m\u001b[0;34m\u001b[0m\u001b[0m\n\u001b[1;32m      5\u001b[0m \u001b[0mprint\u001b[0m\u001b[0;34m(\u001b[0m\u001b[0;34mf'Pólo P1 -> [{p1_r}, {p1_theta}°]'\u001b[0m\u001b[0;34m)\u001b[0m\u001b[0;34m\u001b[0m\u001b[0;34m\u001b[0m\u001b[0m\n",
      "\u001b[0;31mNameError\u001b[0m: name 'fom' is not defined"
     ]
    }
   ],
   "source": [
    "# Representação polar\n",
    "Ts = 1/1000\n",
    "p1_r = np.exp(-Ts * fom['zeta'] * fom['wn'])\n",
    "p1_theta = np.degrees(Ts * fom['wd'])\n",
    "print(f'Pólo P1 -> [{p1_r}, {p1_theta}°]')\n",
    "\n",
    "# Representação retangular\n",
    "p1 = p1_r * np.exp(1j * Ts * fom['wd'])\n",
    "print(f'Pólo P1 -> {p1}')\n",
    "\n",
    "polo_dominante_desejado = tf(1, np.poly([p1, p1.conjugate()]), Ts)\n",
    "print(polo_dominante_desejado)\n",
    "# plt.figure(figsize=(20,10))\n",
    "# zplane(polo_dominante_desejado, color='blue')\n",
    "# zplane(G_z)"
   ]
  }
 ],
 "metadata": {
  "kernelspec": {
   "display_name": "Python 3",
   "language": "python",
   "name": "python3"
  },
  "language_info": {
   "codemirror_mode": {
    "name": "ipython",
    "version": 3
   },
   "file_extension": ".py",
   "mimetype": "text/x-python",
   "name": "python",
   "nbconvert_exporter": "python",
   "pygments_lexer": "ipython3",
   "version": "3.7.3"
  },
  "varInspector": {
   "cols": {
    "lenName": 16,
    "lenType": 16,
    "lenVar": 40
   },
   "kernels_config": {
    "python": {
     "delete_cmd_postfix": "",
     "delete_cmd_prefix": "del ",
     "library": "var_list.py",
     "varRefreshCmd": "print(var_dic_list())"
    },
    "r": {
     "delete_cmd_postfix": ") ",
     "delete_cmd_prefix": "rm(",
     "library": "var_list.r",
     "varRefreshCmd": "cat(var_dic_list()) "
    }
   },
   "types_to_exclude": [
    "module",
    "function",
    "builtin_function_or_method",
    "instance",
    "_Feature"
   ],
   "window_display": false
  }
 },
 "nbformat": 4,
 "nbformat_minor": 2
}
