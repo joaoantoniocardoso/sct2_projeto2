{
 "cells": [
  {
   "cell_type": "code",
   "execution_count": null,
   "metadata": {},
   "outputs": [],
   "source": [
    "import control\n",
    "import numpy as np\n",
    "\n",
    "\n",
    "def myfom(S, SettlingTimeThreshold):\n",
    "    # calcula o zeta necessário usando Mp\n",
    "    zeta = -np.log(S['Overshoot'] /\n",
    "                   100.) / np.sqrt(np.pi**2 + np.log(S['Overshoot'] / 100.)**2)\n",
    "\n",
    "    # calcula o wn necessário usando zeta\n",
    "    try:\n",
    "        wn = np.pi / (S['PeakTime'] * np.sqrt(1 - zeta**2))\n",
    "    except:\n",
    "        wn = -np.log(SettlingTimeThreshold * np.sqrt(1 - zeta**2)) / (\n",
    "            S['SettlingTime'] * zeta)\n",
    "    Fn = wn * 2 * np.pi\n",
    "    wd = wn * np.sqrt(1 - zeta**2)\n",
    "    Fd = wd * 2 * np.pi\n",
    "\n",
    "    FOM = {\n",
    "           'zeta': zeta, \n",
    "           'wn': wn, \n",
    "           'Fn': Fn, \n",
    "           'wd': wd, \n",
    "           'Fd': Fd\n",
    "    }\n",
    "    \n",
    "    return FOM\n",
    "\n",
    "\n",
    "def mystepinfo(sys,\n",
    "               t=None,\n",
    "               SettlingTimeThreshold=0.02,\n",
    "               RiseTimeLimits=[0.1, 0.9]):\n",
    "    #     sys = control.timeresp._get_ss_simo(sys)\n",
    "\n",
    "    t, step_out = control.step_response(sys, t)\n",
    "    step_out = step_out.flatten()\n",
    "\n",
    "    # Steady state value\n",
    "    InfValue = step_out[-1]\n",
    "\n",
    "    # RiseTime\n",
    "    tr_lower_index = (np.where(step_out >= RiseTimeLimits[0] * InfValue)[0])[0]\n",
    "    tr_upper_index = (np.where(step_out >= RiseTimeLimits[1] * InfValue)[0])[0]\n",
    "    RiseTime = t[tr_upper_index] - t[tr_lower_index]\n",
    "\n",
    "    # SettlingTime\n",
    "    sup_margin = (1. + SettlingTimeThreshold) * InfValue\n",
    "    inf_margin = (1. - SettlingTimeThreshold) * InfValue\n",
    "    SettlingTime = 0\n",
    "    for i in reversed(range(t.size)):\n",
    "        if (step_out[i] <= inf_margin) | (step_out[i] >= sup_margin):\n",
    "            if t.size > i + 1:\n",
    "                i += 1\n",
    "            SettlingTime = t[i]\n",
    "            break\n",
    "\n",
    "    # Peak\n",
    "    PeakIndex = np.abs(step_out).argmax()\n",
    "    PeakValue = step_out[PeakIndex]\n",
    "    PeakTime = t[PeakIndex]\n",
    "    SettlingMax = (step_out).max()\n",
    "    SettlingMin = (step_out[tr_upper_index:]).min()\n",
    "    UnderShoot = step_out.min()\n",
    "    OverShoot = 100. * (step_out.max() - InfValue) / (InfValue - step_out[0])\n",
    "\n",
    "    S = {\n",
    "        'RiseTime': RiseTime,\n",
    "        'SettlingTime': SettlingTime,\n",
    "        'SettlingMin': SettlingMin,\n",
    "        'SettlingMax': SettlingMax,\n",
    "        'Overshoot': OverShoot,\n",
    "        'Undershoot': UnderShoot,\n",
    "        'Peak': PeakValue,\n",
    "        'PeakTime': PeakTime,\n",
    "        'SteadyStateValue': InfValue\n",
    "    }\n",
    "\n",
    "    return S"
   ]
  }
 ],
 "metadata": {
  "kernelspec": {
   "display_name": "Python 3",
   "language": "python",
   "name": "python3"
  },
  "language_info": {
   "codemirror_mode": {
    "name": "ipython",
    "version": 3
   },
   "file_extension": ".py",
   "mimetype": "text/x-python",
   "name": "python",
   "nbconvert_exporter": "python",
   "pygments_lexer": "ipython3",
   "version": "3.7.3"
  },
  "varInspector": {
   "cols": {
    "lenName": 16,
    "lenType": 16,
    "lenVar": 40
   },
   "kernels_config": {
    "python": {
     "delete_cmd_postfix": "",
     "delete_cmd_prefix": "del ",
     "library": "var_list.py",
     "varRefreshCmd": "print(var_dic_list())"
    },
    "r": {
     "delete_cmd_postfix": ") ",
     "delete_cmd_prefix": "rm(",
     "library": "var_list.r",
     "varRefreshCmd": "cat(var_dic_list()) "
    }
   },
   "types_to_exclude": [
    "module",
    "function",
    "builtin_function_or_method",
    "instance",
    "_Feature"
   ],
   "window_display": false
  }
 },
 "nbformat": 4,
 "nbformat_minor": 2
}
